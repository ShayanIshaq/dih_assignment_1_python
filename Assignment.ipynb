{
 "cells": [
  {
   "cell_type": "markdown",
   "metadata": {},
   "source": [
    "#### shayan"
   ]
  },
  {
   "cell_type": "code",
   "execution_count": 1,
   "metadata": {
    "collapsed": true
   },
   "outputs": [],
   "source": [
    "import pandas\n",
    "import numpy as np\n",
    "import matplotlib.pyplot as plt\n"
   ]
  },
  {
   "cell_type": "code",
   "execution_count": 2,
   "metadata": {
    "collapsed": true
   },
   "outputs": [],
   "source": [
    "plt.style.use('ggplot')"
   ]
  },
  {
   "cell_type": "code",
   "execution_count": 3,
   "metadata": {
    "collapsed": true
   },
   "outputs": [],
   "source": [
    "df=pandas.read_csv(\"E:/chronic_kidney_disease_updated.csv\")\n"
   ]
  },
  {
   "cell_type": "code",
   "execution_count": 5,
   "metadata": {
    "collapsed": false
   },
   "outputs": [
    {
     "name": "stdout",
     "output_type": "stream",
     "text": [
      "     age   bp     sg   al   su       rbc        pc         pcc          ba  \\\n",
      "0    NaN  NaN    NaN  NaN  NaN       NaN       NaN         NaN         NaN   \n",
      "1     48   80  1.020    1    0         ?    normal  notpresent  notpresent   \n",
      "2      7   50  1.020    4    0         ?    normal  notpresent  notpresent   \n",
      "3     62   80  1.010    2    3    normal    normal  notpresent  notpresent   \n",
      "4     48   70  1.005    4    0    normal  abnormal     present  notpresent   \n",
      "5     51   80  1.010    2    0    normal    normal  notpresent  notpresent   \n",
      "6     60   90  1.015    3    0         ?         ?  notpresent  notpresent   \n",
      "7     68   70  1.010    0    0         ?    normal  notpresent  notpresent   \n",
      "8     24    ?  1.015    2    4    normal  abnormal  notpresent  notpresent   \n",
      "9     52  100  1.015    3    0    normal  abnormal     present  notpresent   \n",
      "10    53   90  1.020    2    0  abnormal  abnormal     present  notpresent   \n",
      "11    50   60  1.010    2    4         ?  abnormal     present  notpresent   \n",
      "12    63   70  1.010    3    0  abnormal  abnormal     present  notpresent   \n",
      "13    68   70  1.015    3    1         ?    normal     present  notpresent   \n",
      "14    68   70      ?    ?    ?         ?         ?  notpresent  notpresent   \n",
      "15    68   80  1.010    3    2    normal  abnormal     present     present   \n",
      "16    40   80  1.015    3    0         ?    normal  notpresent  notpresent   \n",
      "17    47   70  1.015    2    0         ?    normal  notpresent  notpresent   \n",
      "18    47   80      ?    ?    ?         ?         ?  notpresent  notpresent   \n",
      "19    60  100  1.025    0    3         ?    normal  notpresent  notpresent   \n",
      "20    62   60  1.015    1    0         ?  abnormal     present  notpresent   \n",
      "21    61   80  1.015    2    0  abnormal  abnormal  notpresent  notpresent   \n",
      "22    60   90      ?    ?    ?         ?         ?  notpresent  notpresent   \n",
      "23    48   80  1.025    4    0    normal  abnormal  notpresent  notpresent   \n",
      "24    21   70  1.010    0    0         ?    normal  notpresent  notpresent   \n",
      "25    42  100  1.015    4    0    normal  abnormal  notpresent     present   \n",
      "26    61   60  1.025    0    0         ?    normal  notpresent  notpresent   \n",
      "27    75   80  1.015    0    0         ?    normal  notpresent  notpresent   \n",
      "28    69   70  1.010    3    4    normal  abnormal  notpresent  notpresent   \n",
      "29    75   70      ?    1    3         ?         ?  notpresent  notpresent   \n",
      "..   ...  ...    ...  ...  ...       ...       ...         ...         ...   \n",
      "371   69   70  1.020    0    0    normal    normal  notpresent  notpresent   \n",
      "372   28   60  1.025    0    0    normal    normal  notpresent  notpresent   \n",
      "373   72   60  1.020    0    0    normal    normal  notpresent  notpresent   \n",
      "374   61   70  1.025    0    0    normal    normal  notpresent  notpresent   \n",
      "375   79   80  1.025    0    0    normal    normal  notpresent  notpresent   \n",
      "376   70   80  1.020    0    0    normal    normal  notpresent  notpresent   \n",
      "377   58   70  1.025    0    0    normal    normal  notpresent  notpresent   \n",
      "378   64   70  1.020    0    0    normal    normal  notpresent  notpresent   \n",
      "379   71   60  1.025    0    0    normal    normal  notpresent  notpresent   \n",
      "380   62   80  1.025    0    0    normal    normal  notpresent  notpresent   \n",
      "381   59   60  1.020    0    0    normal    normal  notpresent  notpresent   \n",
      "382   71   70  1.025    0    0         ?         ?  notpresent  notpresent   \n",
      "383   48   80  1.025    0    0    normal    normal  notpresent  notpresent   \n",
      "384   80   80  1.025    0    0    normal    normal  notpresent  notpresent   \n",
      "385   57   60  1.020    0    0    normal    normal  notpresent  notpresent   \n",
      "386   63   70  1.020    0    0    normal    normal  notpresent  notpresent   \n",
      "387   46   70  1.025    0    0    normal    normal  notpresent  notpresent   \n",
      "388   15   80  1.025    0    0    normal    normal  notpresent  notpresent   \n",
      "389   51   80  1.020    0    0    normal    normal  notpresent  notpresent   \n",
      "390   41   80  1.025    0    0    normal    normal  notpresent  notpresent   \n",
      "391   52   80  1.025    0    0    normal    normal  notpresent  notpresent   \n",
      "392   36   80  1.025    0    0    normal    normal  notpresent  notpresent   \n",
      "393   57   80  1.020    0    0    normal    normal  notpresent  notpresent   \n",
      "394   43   60  1.025    0    0    normal    normal  notpresent  notpresent   \n",
      "395   50   80  1.020    0    0    normal    normal  notpresent  notpresent   \n",
      "396   55   80  1.020    0    0    normal    normal  notpresent  notpresent   \n",
      "397   42   70  1.025    0    0    normal    normal  notpresent  notpresent   \n",
      "398   12   80  1.020    0    0    normal    normal  notpresent  notpresent   \n",
      "399   17   60  1.025    0    0    normal    normal  notpresent  notpresent   \n",
      "400   58   80  1.025    0    0    normal    normal  notpresent  notpresent   \n",
      "\n",
      "     bgr   ...    pcv   wbcc rbcc  htn   dm  cad appet   pe  ane   class  \n",
      "0    NaN   ...    NaN    NaN  NaN  NaN  NaN  NaN   NaN  NaN  NaN     NaN  \n",
      "1    121   ...     44   7800  5.2  yes  yes   no  good   no   no     ckd  \n",
      "2      ?   ...     38   6000    ?   no   no   no  good   no   no     ckd  \n",
      "3    423   ...     31   7500    ?   no  yes   no  poor   no  yes     ckd  \n",
      "4    117   ...     32   6700  3.9  yes   no   no  poor  yes  yes     ckd  \n",
      "5    106   ...     35   7300  4.6   no   no   no  good   no   no     ckd  \n",
      "6     74   ...     39   7800  4.4  yes  yes   no  good  yes   no     ckd  \n",
      "7    100   ...     36      ?    ?   no   no   no  good   no   no     ckd  \n",
      "8    410   ...     44   6900    5   no  yes   no  good  yes   no     ckd  \n",
      "9    138   ...     33   9600  4.0  yes  yes   no  good   no  yes     ckd  \n",
      "10    70   ...     29  12100  3.7  yes  yes   no  poor   no  yes     ckd  \n",
      "11   490   ...     28      ?    ?  yes  yes   no  good   no  yes     ckd  \n",
      "12   380   ...     32   4500  3.8  yes  yes   no  poor  yes   no     ckd  \n",
      "13   208   ...     28  12200  3.4  yes  yes  yes  poor  yes   no     ckd  \n",
      "14    98   ...      ?      ?    ?  yes  yes  yes  poor  yes   no     ckd  \n",
      "15   157   ...     16  11000  2.6  yes  yes  yes  poor  yes   no     ckd  \n",
      "16    76   ...     24   3800  2.8  yes   no   no  good   no  yes     ckd  \n",
      "17    99   ...      ?      ?    ?   no   no   no  good   no   no     ckd  \n",
      "18   114   ...      ?      ?    ?  yes   no   no  poor   no   no     ckd  \n",
      "19   263   ...     37  11400  4.3  yes  yes  yes  good   no   no     ckd  \n",
      "20   100   ...     30   5300  3.7  yes   no  yes  good   no   no     ckd  \n",
      "21   173   ...     24   9200  3.2  yes  yes  yes  poor  yes  yes     ckd  \n",
      "22     ?   ...     32   6200  3.6  yes  yes  yes  good   no   no     ckd  \n",
      "23    95   ...     32   6900  3.4  yes   no   no  good   no  yes     ckd  \n",
      "24     ?   ...      ?      ?    ?   no   no   no  poor   no  yes     ckd  \n",
      "25     ?   ...     39   8300  4.6  yes   no   no  poor   no   no     ckd  \n",
      "26   108   ...     29   8400  3.7  yes  yes   no  good   no  yes     ckd  \n",
      "27   156   ...     35  10300    4  yes  yes   no  poor   no   no     ckd  \n",
      "28   264   ...     37   9600  4.1  yes  yes  yes  good  yes   no     ckd  \n",
      "29   123   ...      ?      ?    ?   no  yes   no  good   no   no     ckd  \n",
      "..   ...   ...    ...    ...  ...  ...  ...  ...   ...  ...  ...     ...  \n",
      "371   83   ...     50   9300  5.4   no   no   no  good   no   no  notckd  \n",
      "372   79   ...     51   6500  5.0   no   no   no  good   no   no  notckd  \n",
      "373  109   ...     52  10500  5.5   no   no   no  good   no   no  notckd  \n",
      "374  133   ...     47   9200  4.9   no   no   no  good   no   no  notckd  \n",
      "375  111   ...     40   8000  6.4   no   no   no  good   no   no  notckd  \n",
      "376   74   ...     48   9700  5.6   no   no   no  good   no   no  notckd  \n",
      "377   88   ...     53   9100  5.2   no   no   no  good   no   no  notckd  \n",
      "378   97   ...     49   6400  4.8   no   no   no  good   no   no  notckd  \n",
      "379    ?   ...     42   7700  5.5   no   no   no  good   no   no  notckd  \n",
      "380   78   ...     50   5400  5.7   no   no   no  good   no   no  notckd  \n",
      "381  113   ...     54   6500  4.9   no   no   no  good   no   no  notckd  \n",
      "382   79   ...     40   5800  5.9   no   no   no  good   no   no  notckd  \n",
      "383   75   ...     51   6000  6.5   no   no   no  good   no   no  notckd  \n",
      "384  119   ...     49   5100  5.0   no   no   no  good   no   no  notckd  \n",
      "385  132   ...     42  11000  4.5   no   no   no  good   no   no  notckd  \n",
      "386  113   ...     52   8000  5.1   no   no   no  good   no   no  notckd  \n",
      "387  100   ...     43   5700  6.5   no   no   no  good   no   no  notckd  \n",
      "388   93   ...     50   6200  5.2   no   no   no  good   no   no  notckd  \n",
      "389   94   ...     46   9500  6.4   no   no   no  good   no   no  notckd  \n",
      "390  112   ...     52   7200  5.8   no   no   no  good   no   no  notckd  \n",
      "391   99   ...     52   6300  5.3   no   no   no  good   no   no  notckd  \n",
      "392   85   ...     44   5800  6.3   no   no   no  good   no   no  notckd  \n",
      "393  133   ...     46   6600  5.5   no   no   no  good   no   no  notckd  \n",
      "394  117   ...     54   7400  5.4   no   no   no  good   no   no  notckd  \n",
      "395  137   ...     45   9500  4.6   no   no   no  good   no   no  notckd  \n",
      "396  140   ...     47   6700  4.9   no   no   no  good   no   no  notckd  \n",
      "397   75   ...     54   7800  6.2   no   no   no  good   no   no  notckd  \n",
      "398  100   ...     49   6600  5.4   no   no   no  good   no   no  notckd  \n",
      "399  114   ...     51   7200  5.9   no   no   no  good   no   no  notckd  \n",
      "400  131   ...     53   6800  6.1   no   no   no  good   no   no  notckd  \n",
      "\n",
      "[401 rows x 25 columns]\n"
     ]
    }
   ],
   "source": [
    "print (df)"
   ]
  },
  {
   "cell_type": "code",
   "execution_count": 6,
   "metadata": {
    "collapsed": false
   },
   "outputs": [
    {
     "name": "stdout",
     "output_type": "stream",
     "text": [
      "['age', 'bp', 'sg', 'al', 'su', 'rbc', 'pc', 'pcc', 'ba', 'bgr', 'bu', 'sc', 'sod', 'pot', 'hemo', 'pcv', 'wbcc', 'rbcc', 'htn', 'dm', 'cad', 'appet', 'pe', 'ane', 'class']\n"
     ]
    }
   ],
   "source": [
    "#print column names\n",
    "print(list(df))\n"
   ]
  },
  {
   "cell_type": "code",
   "execution_count": 7,
   "metadata": {
    "collapsed": false
   },
   "outputs": [
    {
     "name": "stdout",
     "output_type": "stream",
     "text": [
      "   age   bp     sg   al   su     rbc        pc         pcc          ba  bgr  \\\n",
      "0  NaN  NaN    NaN  NaN  NaN     NaN       NaN         NaN         NaN  NaN   \n",
      "1   48   80  1.020    1    0       ?    normal  notpresent  notpresent  121   \n",
      "2    7   50  1.020    4    0       ?    normal  notpresent  notpresent    ?   \n",
      "3   62   80  1.010    2    3  normal    normal  notpresent  notpresent  423   \n",
      "4   48   70  1.005    4    0  normal  abnormal     present  notpresent  117   \n",
      "\n",
      "   ...   pcv  wbcc rbcc  htn   dm  cad appet   pe  ane class  \n",
      "0  ...   NaN   NaN  NaN  NaN  NaN  NaN   NaN  NaN  NaN   NaN  \n",
      "1  ...    44  7800  5.2  yes  yes   no  good   no   no   ckd  \n",
      "2  ...    38  6000    ?   no   no   no  good   no   no   ckd  \n",
      "3  ...    31  7500    ?   no  yes   no  poor   no  yes   ckd  \n",
      "4  ...    32  6700  3.9  yes   no   no  poor  yes  yes   ckd  \n",
      "\n",
      "[5 rows x 25 columns]\n"
     ]
    }
   ],
   "source": [
    "#print first 5 rows\n",
    "print(df.head())\n"
   ]
  },
  {
   "cell_type": "code",
   "execution_count": 8,
   "metadata": {
    "collapsed": true
   },
   "outputs": [],
   "source": [
    "df.drop(df.index[[0]], inplace=True)\n",
    "#df.drop('Unnamed: 0', axis=1, inplace=True)\n"
   ]
  },
  {
   "cell_type": "code",
   "execution_count": 9,
   "metadata": {
    "collapsed": false
   },
   "outputs": [
    {
     "name": "stdout",
     "output_type": "stream",
     "text": [
      "['yes' 'no' ' yes' '\\tno' '\\tyes' '?']\n"
     ]
    }
   ],
   "source": [
    "print(df.dm.unique() )"
   ]
  },
  {
   "cell_type": "code",
   "execution_count": 10,
   "metadata": {
    "collapsed": true
   },
   "outputs": [],
   "source": [
    "def replace(tup, df):\n",
    "    for i in tup:\n",
    "        df.replace(to_replace=i, value=np.nan, inplace=True)\n"
   ]
  },
  {
   "cell_type": "code",
   "execution_count": 11,
   "metadata": {
    "collapsed": false
   },
   "outputs": [
    {
     "name": "stdout",
     "output_type": "stream",
     "text": [
      "['yes' 'no' nan]\n"
     ]
    }
   ],
   "source": [
    "def replace(tup, df):\n",
    "    for i in tup:\n",
    "        df.replace(to_replace=i, value=np.nan, inplace=True)\n",
    "        \n",
    "def cleandf(df):\n",
    "   df=df.applymap(lambda x: str(x).strip())\n",
    "   return df\n",
    "    \n",
    "df=cleandf(df)\n",
    "    \n",
    "replace(( \"\\t\", \" \", \"?\"), df)\n",
    "\n",
    "print(df.dm.unique() )\n"
   ]
  },
  {
   "cell_type": "code",
   "execution_count": 12,
   "metadata": {
    "collapsed": false
   },
   "outputs": [
    {
     "name": "stdout",
     "output_type": "stream",
     "text": [
      "           pc   al\n",
      "1      normal    1\n",
      "2      normal    4\n",
      "3      normal    2\n",
      "4    abnormal    4\n",
      "5      normal    2\n",
      "6         NaN    3\n",
      "7      normal    0\n",
      "8    abnormal    2\n",
      "9    abnormal    3\n",
      "10   abnormal    2\n",
      "11   abnormal    2\n",
      "12   abnormal    3\n",
      "13     normal    3\n",
      "14        NaN  NaN\n",
      "15   abnormal    3\n",
      "16     normal    3\n",
      "17     normal    2\n",
      "18        NaN  NaN\n",
      "19     normal    0\n",
      "20   abnormal    1\n",
      "21   abnormal    2\n",
      "22        NaN  NaN\n",
      "23   abnormal    4\n",
      "24     normal    0\n",
      "25   abnormal    4\n",
      "26     normal    0\n",
      "27     normal    0\n",
      "28   abnormal    3\n",
      "29        NaN    1\n",
      "30   abnormal    1\n",
      "..        ...  ...\n",
      "371    normal    0\n",
      "372    normal    0\n",
      "373    normal    0\n",
      "374    normal    0\n",
      "375    normal    0\n",
      "376    normal    0\n",
      "377    normal    0\n",
      "378    normal    0\n",
      "379    normal    0\n",
      "380    normal    0\n",
      "381    normal    0\n",
      "382       NaN    0\n",
      "383    normal    0\n",
      "384    normal    0\n",
      "385    normal    0\n",
      "386    normal    0\n",
      "387    normal    0\n",
      "388    normal    0\n",
      "389    normal    0\n",
      "390    normal    0\n",
      "391    normal    0\n",
      "392    normal    0\n",
      "393    normal    0\n",
      "394    normal    0\n",
      "395    normal    0\n",
      "396    normal    0\n",
      "397    normal    0\n",
      "398    normal    0\n",
      "399    normal    0\n",
      "400    normal    0\n",
      "\n",
      "[400 rows x 2 columns]\n"
     ]
    }
   ],
   "source": [
    "numeric_columns= ['age', 'bp', 'bgr', 'bu', 'sc', 'sod', 'pot', 'hemo', 'pcv', 'wbcc', 'rbcc']\n",
    "for i in numeric_columns:\n",
    "   df[i] = pandas.to_numeric(df[i], errors='coerce')\n",
    "\n",
    "\n",
    "print(df[['pc','al']])\n"
   ]
  },
  {
   "cell_type": "code",
   "execution_count": 13,
   "metadata": {
    "collapsed": true
   },
   "outputs": [],
   "source": [
    "df.rename(columns={'class': 'Class'}, inplace=True)\n",
    "ckd=df[df.Class=='ckd']\n"
   ]
  },
  {
   "cell_type": "code",
   "execution_count": 14,
   "metadata": {
    "collapsed": false
   },
   "outputs": [
    {
     "name": "stdout",
     "output_type": "stream",
     "text": [
      "180.0\n"
     ]
    }
   ],
   "source": [
    "df.rename(columns={'class': 'Class'}, inplace=True)\n",
    "ckd=df[df.Class=='ckd']\n",
    "\n",
    "normal_count=(len(ckd[ckd.rbc=='normal'].index))\n",
    "abnormal_count=(len(ckd[ckd.rbc=='abnormal'].index))\n",
    "\n",
    "ckd['rbc'].value_counts().plot(kind='bar')\n",
    "\n",
    "#x_pos=np.array('normal','abnormal')\n",
    "#y_pos=np.array(normal_count, abnormal_count)\n",
    "\n",
    "print(ckd['bp'].max())\n",
    "\n"
   ]
  },
  {
   "cell_type": "code",
   "execution_count": 15,
   "metadata": {
    "collapsed": true
   },
   "outputs": [],
   "source": [
    "df.to_csv(path_or_buf=\"E:/DIH/clean_chronic_kidney_disease.csv\")\n"
   ]
  },
  {
   "cell_type": "code",
   "execution_count": 16,
   "metadata": {
    "collapsed": false
   },
   "outputs": [
    {
     "name": "stdout",
     "output_type": "stream",
     "text": [
      "      age     bp     sg   al   su       rbc        pc         pcc          ba  \\\n",
      "1    48.0   80.0  1.020    1    0       NaN    normal  notpresent  notpresent   \n",
      "2     7.0   50.0  1.020    4    0       NaN    normal  notpresent  notpresent   \n",
      "3    62.0   80.0  1.010    2    3    normal    normal  notpresent  notpresent   \n",
      "4    48.0   70.0  1.005    4    0    normal  abnormal     present  notpresent   \n",
      "5    51.0   80.0  1.010    2    0    normal    normal  notpresent  notpresent   \n",
      "6    60.0   90.0  1.015    3    0       NaN       NaN  notpresent  notpresent   \n",
      "7    68.0   70.0  1.010    0    0       NaN    normal  notpresent  notpresent   \n",
      "8    24.0    NaN  1.015    2    4    normal  abnormal  notpresent  notpresent   \n",
      "9    52.0  100.0  1.015    3    0    normal  abnormal     present  notpresent   \n",
      "10   53.0   90.0  1.020    2    0  abnormal  abnormal     present  notpresent   \n",
      "11   50.0   60.0  1.010    2    4       NaN  abnormal     present  notpresent   \n",
      "12   63.0   70.0  1.010    3    0  abnormal  abnormal     present  notpresent   \n",
      "13   68.0   70.0  1.015    3    1       NaN    normal     present  notpresent   \n",
      "14   68.0   70.0    NaN  NaN  NaN       NaN       NaN  notpresent  notpresent   \n",
      "15   68.0   80.0  1.010    3    2    normal  abnormal     present     present   \n",
      "16   40.0   80.0  1.015    3    0       NaN    normal  notpresent  notpresent   \n",
      "17   47.0   70.0  1.015    2    0       NaN    normal  notpresent  notpresent   \n",
      "18   47.0   80.0    NaN  NaN  NaN       NaN       NaN  notpresent  notpresent   \n",
      "19   60.0  100.0  1.025    0    3       NaN    normal  notpresent  notpresent   \n",
      "20   62.0   60.0  1.015    1    0       NaN  abnormal     present  notpresent   \n",
      "21   61.0   80.0  1.015    2    0  abnormal  abnormal  notpresent  notpresent   \n",
      "22   60.0   90.0    NaN  NaN  NaN       NaN       NaN  notpresent  notpresent   \n",
      "23   48.0   80.0  1.025    4    0    normal  abnormal  notpresent  notpresent   \n",
      "24   21.0   70.0  1.010    0    0       NaN    normal  notpresent  notpresent   \n",
      "25   42.0  100.0  1.015    4    0    normal  abnormal  notpresent     present   \n",
      "26   61.0   60.0  1.025    0    0       NaN    normal  notpresent  notpresent   \n",
      "27   75.0   80.0  1.015    0    0       NaN    normal  notpresent  notpresent   \n",
      "28   69.0   70.0  1.010    3    4    normal  abnormal  notpresent  notpresent   \n",
      "29   75.0   70.0    NaN    1    3       NaN       NaN  notpresent  notpresent   \n",
      "30   68.0   70.0  1.005    1    0  abnormal  abnormal     present  notpresent   \n",
      "..    ...    ...    ...  ...  ...       ...       ...         ...         ...   \n",
      "371  69.0   70.0  1.020    0    0    normal    normal  notpresent  notpresent   \n",
      "372  28.0   60.0  1.025    0    0    normal    normal  notpresent  notpresent   \n",
      "373  72.0   60.0  1.020    0    0    normal    normal  notpresent  notpresent   \n",
      "374  61.0   70.0  1.025    0    0    normal    normal  notpresent  notpresent   \n",
      "375  79.0   80.0  1.025    0    0    normal    normal  notpresent  notpresent   \n",
      "376  70.0   80.0  1.020    0    0    normal    normal  notpresent  notpresent   \n",
      "377  58.0   70.0  1.025    0    0    normal    normal  notpresent  notpresent   \n",
      "378  64.0   70.0  1.020    0    0    normal    normal  notpresent  notpresent   \n",
      "379  71.0   60.0  1.025    0    0    normal    normal  notpresent  notpresent   \n",
      "380  62.0   80.0  1.025    0    0    normal    normal  notpresent  notpresent   \n",
      "381  59.0   60.0  1.020    0    0    normal    normal  notpresent  notpresent   \n",
      "382  71.0   70.0  1.025    0    0       NaN       NaN  notpresent  notpresent   \n",
      "383  48.0   80.0  1.025    0    0    normal    normal  notpresent  notpresent   \n",
      "384  80.0   80.0  1.025    0    0    normal    normal  notpresent  notpresent   \n",
      "385  57.0   60.0  1.020    0    0    normal    normal  notpresent  notpresent   \n",
      "386  63.0   70.0  1.020    0    0    normal    normal  notpresent  notpresent   \n",
      "387  46.0   70.0  1.025    0    0    normal    normal  notpresent  notpresent   \n",
      "388  15.0   80.0  1.025    0    0    normal    normal  notpresent  notpresent   \n",
      "389  51.0   80.0  1.020    0    0    normal    normal  notpresent  notpresent   \n",
      "390  41.0   80.0  1.025    0    0    normal    normal  notpresent  notpresent   \n",
      "391  52.0   80.0  1.025    0    0    normal    normal  notpresent  notpresent   \n",
      "392  36.0   80.0  1.025    0    0    normal    normal  notpresent  notpresent   \n",
      "393  57.0   80.0  1.020    0    0    normal    normal  notpresent  notpresent   \n",
      "394  43.0   60.0  1.025    0    0    normal    normal  notpresent  notpresent   \n",
      "395  50.0   80.0  1.020    0    0    normal    normal  notpresent  notpresent   \n",
      "396  55.0   80.0  1.020    0    0    normal    normal  notpresent  notpresent   \n",
      "397  42.0   70.0  1.025    0    0    normal    normal  notpresent  notpresent   \n",
      "398  12.0   80.0  1.020    0    0    normal    normal  notpresent  notpresent   \n",
      "399  17.0   60.0  1.025    0    0    normal    normal  notpresent  notpresent   \n",
      "400  58.0   80.0  1.025    0    0    normal    normal  notpresent  notpresent   \n",
      "\n",
      "       bgr   ...     pcv     wbcc  rbcc  htn   dm  cad  appet   pe  ane  \\\n",
      "1    121.0   ...    44.0   7800.0   5.2  yes  yes   no   good   no   no   \n",
      "2      NaN   ...    38.0   6000.0   NaN   no   no   no   good   no   no   \n",
      "3    423.0   ...    31.0   7500.0   NaN   no  yes   no   poor   no  yes   \n",
      "4    117.0   ...    32.0   6700.0   3.9  yes   no   no   poor  yes  yes   \n",
      "5    106.0   ...    35.0   7300.0   4.6   no   no   no   good   no   no   \n",
      "6     74.0   ...    39.0   7800.0   4.4  yes  yes   no   good  yes   no   \n",
      "7    100.0   ...    36.0      NaN   NaN   no   no   no   good   no   no   \n",
      "8    410.0   ...    44.0   6900.0   5.0   no  yes   no   good  yes   no   \n",
      "9    138.0   ...    33.0   9600.0   4.0  yes  yes   no   good   no  yes   \n",
      "10    70.0   ...    29.0  12100.0   3.7  yes  yes   no   poor   no  yes   \n",
      "11   490.0   ...    28.0      NaN   NaN  yes  yes   no   good   no  yes   \n",
      "12   380.0   ...    32.0   4500.0   3.8  yes  yes   no   poor  yes   no   \n",
      "13   208.0   ...    28.0  12200.0   3.4  yes  yes  yes   poor  yes   no   \n",
      "14    98.0   ...     NaN      NaN   NaN  yes  yes  yes   poor  yes   no   \n",
      "15   157.0   ...    16.0  11000.0   2.6  yes  yes  yes   poor  yes   no   \n",
      "16    76.0   ...    24.0   3800.0   2.8  yes   no   no   good   no  yes   \n",
      "17    99.0   ...     NaN      NaN   NaN   no   no   no   good   no   no   \n",
      "18   114.0   ...     NaN      NaN   NaN  yes   no   no   poor   no   no   \n",
      "19   263.0   ...    37.0  11400.0   4.3  yes  yes  yes   good   no   no   \n",
      "20   100.0   ...    30.0   5300.0   3.7  yes   no  yes   good   no   no   \n",
      "21   173.0   ...    24.0   9200.0   3.2  yes  yes  yes   poor  yes  yes   \n",
      "22     NaN   ...    32.0   6200.0   3.6  yes  yes  yes   good   no   no   \n",
      "23    95.0   ...    32.0   6900.0   3.4  yes   no   no   good   no  yes   \n",
      "24     NaN   ...     NaN      NaN   NaN   no   no   no   poor   no  yes   \n",
      "25     NaN   ...    39.0   8300.0   4.6  yes   no   no   poor   no   no   \n",
      "26   108.0   ...    29.0   8400.0   3.7  yes  yes   no   good   no  yes   \n",
      "27   156.0   ...    35.0  10300.0   4.0  yes  yes   no   poor   no   no   \n",
      "28   264.0   ...    37.0   9600.0   4.1  yes  yes  yes   good  yes   no   \n",
      "29   123.0   ...     NaN      NaN   NaN   no  yes   no   good   no   no   \n",
      "30     NaN   ...    38.0      NaN   NaN   no   no  yes   good   no   no   \n",
      "..     ...   ...     ...      ...   ...  ...  ...  ...    ...  ...  ...   \n",
      "371   83.0   ...    50.0   9300.0   5.4   no   no   no   good   no   no   \n",
      "372   79.0   ...    51.0   6500.0   5.0   no   no   no   good   no   no   \n",
      "373  109.0   ...    52.0  10500.0   5.5   no   no   no   good   no   no   \n",
      "374  133.0   ...    47.0   9200.0   4.9   no   no   no   good   no   no   \n",
      "375  111.0   ...    40.0   8000.0   6.4   no   no   no   good   no   no   \n",
      "376   74.0   ...    48.0   9700.0   5.6   no   no   no   good   no   no   \n",
      "377   88.0   ...    53.0   9100.0   5.2   no   no   no   good   no   no   \n",
      "378   97.0   ...    49.0   6400.0   4.8   no   no   no   good   no   no   \n",
      "379    NaN   ...    42.0   7700.0   5.5   no   no   no   good   no   no   \n",
      "380   78.0   ...    50.0   5400.0   5.7   no   no   no   good   no   no   \n",
      "381  113.0   ...    54.0   6500.0   4.9   no   no   no   good   no   no   \n",
      "382   79.0   ...    40.0   5800.0   5.9   no   no   no   good   no   no   \n",
      "383   75.0   ...    51.0   6000.0   6.5   no   no   no   good   no   no   \n",
      "384  119.0   ...    49.0   5100.0   5.0   no   no   no   good   no   no   \n",
      "385  132.0   ...    42.0  11000.0   4.5   no   no   no   good   no   no   \n",
      "386  113.0   ...    52.0   8000.0   5.1   no   no   no   good   no   no   \n",
      "387  100.0   ...    43.0   5700.0   6.5   no   no   no   good   no   no   \n",
      "388   93.0   ...    50.0   6200.0   5.2   no   no   no   good   no   no   \n",
      "389   94.0   ...    46.0   9500.0   6.4   no   no   no   good   no   no   \n",
      "390  112.0   ...    52.0   7200.0   5.8   no   no   no   good   no   no   \n",
      "391   99.0   ...    52.0   6300.0   5.3   no   no   no   good   no   no   \n",
      "392   85.0   ...    44.0   5800.0   6.3   no   no   no   good   no   no   \n",
      "393  133.0   ...    46.0   6600.0   5.5   no   no   no   good   no   no   \n",
      "394  117.0   ...    54.0   7400.0   5.4   no   no   no   good   no   no   \n",
      "395  137.0   ...    45.0   9500.0   4.6   no   no   no   good   no   no   \n",
      "396  140.0   ...    47.0   6700.0   4.9   no   no   no   good   no   no   \n",
      "397   75.0   ...    54.0   7800.0   6.2   no   no   no   good   no   no   \n",
      "398  100.0   ...    49.0   6600.0   5.4   no   no   no   good   no   no   \n",
      "399  114.0   ...    51.0   7200.0   5.9   no   no   no   good   no   no   \n",
      "400  131.0   ...    53.0   6800.0   6.1   no   no   no   good   no   no   \n",
      "\n",
      "      Class  \n",
      "1       ckd  \n",
      "2       ckd  \n",
      "3       ckd  \n",
      "4       ckd  \n",
      "5       ckd  \n",
      "6       ckd  \n",
      "7       ckd  \n",
      "8       ckd  \n",
      "9       ckd  \n",
      "10      ckd  \n",
      "11      ckd  \n",
      "12      ckd  \n",
      "13      ckd  \n",
      "14      ckd  \n",
      "15      ckd  \n",
      "16      ckd  \n",
      "17      ckd  \n",
      "18      ckd  \n",
      "19      ckd  \n",
      "20      ckd  \n",
      "21      ckd  \n",
      "22      ckd  \n",
      "23      ckd  \n",
      "24      ckd  \n",
      "25      ckd  \n",
      "26      ckd  \n",
      "27      ckd  \n",
      "28      ckd  \n",
      "29      ckd  \n",
      "30      ckd  \n",
      "..      ...  \n",
      "371  notckd  \n",
      "372  notckd  \n",
      "373  notckd  \n",
      "374  notckd  \n",
      "375  notckd  \n",
      "376  notckd  \n",
      "377  notckd  \n",
      "378  notckd  \n",
      "379  notckd  \n",
      "380  notckd  \n",
      "381  notckd  \n",
      "382  notckd  \n",
      "383  notckd  \n",
      "384  notckd  \n",
      "385  notckd  \n",
      "386  notckd  \n",
      "387  notckd  \n",
      "388  notckd  \n",
      "389  notckd  \n",
      "390  notckd  \n",
      "391  notckd  \n",
      "392  notckd  \n",
      "393  notckd  \n",
      "394  notckd  \n",
      "395  notckd  \n",
      "396  notckd  \n",
      "397  notckd  \n",
      "398  notckd  \n",
      "399  notckd  \n",
      "400  notckd  \n",
      "\n",
      "[400 rows x 25 columns]\n"
     ]
    }
   ],
   "source": [
    "print(df)"
   ]
  },
  {
   "cell_type": "code",
   "execution_count": null,
   "metadata": {
    "collapsed": true
   },
   "outputs": [],
   "source": []
  }
 ],
 "metadata": {
  "kernelspec": {
   "display_name": "Python 3",
   "language": "python",
   "name": "python3"
  },
  "language_info": {
   "codemirror_mode": {
    "name": "ipython",
    "version": 3
   },
   "file_extension": ".py",
   "mimetype": "text/x-python",
   "name": "python",
   "nbconvert_exporter": "python",
   "pygments_lexer": "ipython3",
   "version": "3.6.0"
  }
 },
 "nbformat": 4,
 "nbformat_minor": 2
}
